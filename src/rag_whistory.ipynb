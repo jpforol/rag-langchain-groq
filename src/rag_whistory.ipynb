{
 "cells": [
  {
   "cell_type": "code",
   "execution_count": 5,
   "metadata": {},
   "outputs": [],
   "source": [
    "import os\n",
    "import bs4\n",
    "\n",
    "from langchain_community.vectorstores import FAISS\n",
    "from langchain_community.document_loaders import PyPDFLoader\n",
    "from langchain_community.chat_message_histories import ChatMessageHistory\n",
    "\n",
    "from langchain.chains import create_retrieval_chain\n",
    "from langchain.chains import create_history_aware_retriever\n",
    "from langchain.chains.combine_documents import create_stuff_documents_chain\n",
    "\n",
    "from langchain_huggingface import HuggingFaceEmbeddings\n",
    "\n",
    "from langchain_text_splitters import RecursiveCharacterTextSplitter\n",
    "\n",
    "from langchain_groq import ChatGroq\n",
    "\n",
    "from langchain_core.prompts import ChatPromptTemplate\n",
    "from langchain_core.prompts import MessagesPlaceholder\n",
    "from langchain_core.chat_history import BaseChatMessageHistory\n",
    "from langchain_core.runnables.history import RunnableWithMessageHistory\n",
    "from langchain_core.messages import AIMessage\n",
    "\n",
    "from dotenv import load_dotenv"
   ]
  },
  {
   "cell_type": "code",
   "execution_count": 7,
   "metadata": {},
   "outputs": [],
   "source": [
    "# Carregar variáveis de ambiente\n",
    "load_dotenv()\n",
    "api_key = os.environ[\"GROQ_API_KEY\"]\n",
    "\n",
    "# Instanciar o modelo LLM (Large Language Model)\n",
    "llm = ChatGroq(model=\"llama3-8b-8192\", api_key=api_key)"
   ]
  },
  {
   "cell_type": "code",
   "execution_count": 8,
   "metadata": {},
   "outputs": [],
   "source": [
    "# Carregar documento PDF\n",
    "loader = PyPDFLoader(\"./pdfs/curriculo.pdf\")\n",
    "docs = loader.load()"
   ]
  },
  {
   "cell_type": "code",
   "execution_count": 9,
   "metadata": {},
   "outputs": [],
   "source": [
    "# Dividir o texto em pedaços menores\n",
    "text_splitter = RecursiveCharacterTextSplitter(chunk_size=1000, chunk_overlap=200)\n",
    "splits = text_splitter.split_documents(docs)\n",
    "\n",
    "# Indexar os documentos usando FAISS\n",
    "vectorstore = FAISS.from_documents(documents=splits, embedding=HuggingFaceEmbeddings())\n",
    "\n",
    "# Configurar o recuperador de documentos\n",
    "retriever = vectorstore.as_retriever()"
   ]
  },
  {
   "cell_type": "code",
   "execution_count": 10,
   "metadata": {},
   "outputs": [],
   "source": [
    "# Prompt para contextualizar perguntas com histórico de chat\n",
    "contextualize_q_system_prompt = (\n",
    "    \"Considerando um histórico de bate-papo e a última pergunta do usuário \"\n",
    "    \"que pode fazer referência ao contexto no histórico do chat, \"\n",
    "    \"formule uma pergunta independente que possa ser entendida \"\n",
    "    \"sem o histórico de bate-papo. NÃO responda à pergunta, \"\n",
    "    \"apenas reformule-a se necessário e devolva-a como está.\"\n",
    ")\n",
    "contextualize_q_prompt = ChatPromptTemplate.from_messages(\n",
    "    [\n",
    "        (\"system\", contextualize_q_system_prompt),\n",
    "        MessagesPlaceholder(\"chat_history\"),\n",
    "        (\"human\", \"{input}\"),\n",
    "    ]\n",
    ")"
   ]
  },
  {
   "cell_type": "code",
   "execution_count": 11,
   "metadata": {},
   "outputs": [],
   "source": [
    "# Criar um recuperador consciente do histórico\n",
    "history_aware_retriever = create_history_aware_retriever(\n",
    "    llm, retriever, contextualize_q_prompt\n",
    ")"
   ]
  },
  {
   "cell_type": "code",
   "execution_count": 12,
   "metadata": {},
   "outputs": [],
   "source": [
    "# Prompt do sistema para perguntas e respostas\n",
    "system_prompt = (\n",
    "    \"Você é um assistente para tarefas de resposta a perguntas. \"\n",
    "    \"Use as seguintes partes do contexto recuperado para responder \"\n",
    "    \"a pergunta. Se você não sabe a resposta, diga que você \"\n",
    "    \"não sabe. Use no máximo três frases e mantenha a \"\n",
    "    \"resposta concisa.\"\n",
    "    \"\\n\\n\"\n",
    "    \"{context}\"\n",
    ")\n",
    "qa_prompt = ChatPromptTemplate.from_messages(\n",
    "    [\n",
    "        (\"system\", system_prompt),\n",
    "        MessagesPlaceholder(\"chat_history\"),\n",
    "        (\"human\", \"{input}\"),\n",
    "    ]\n",
    ")"
   ]
  },
  {
   "cell_type": "code",
   "execution_count": 13,
   "metadata": {},
   "outputs": [],
   "source": [
    "# Criar a cadeia de perguntas e respostas (QA)\n",
    "question_answer_chain = create_stuff_documents_chain(llm, qa_prompt)\n",
    "\n",
    "# Criar a cadeia de recuperação e geração de respostas (RAG)\n",
    "rag_chain = create_retrieval_chain(history_aware_retriever, question_answer_chain)"
   ]
  },
  {
   "cell_type": "code",
   "execution_count": 14,
   "metadata": {},
   "outputs": [],
   "source": [
    "# Armazenar históricos de conversas\n",
    "store = {}\n",
    "\n",
    "def get_session_history(session_id: str) -> BaseChatMessageHistory:\n",
    "    if session_id not in store:\n",
    "        store[session_id] = ChatMessageHistory()\n",
    "    return store[session_id]"
   ]
  },
  {
   "cell_type": "code",
   "execution_count": 15,
   "metadata": {},
   "outputs": [],
   "source": [
    "# Executar cadeia de recuperação com histórico de mensagens\n",
    "conversational_rag_chain = RunnableWithMessageHistory(\n",
    "    rag_chain,\n",
    "    get_session_history,\n",
    "    input_messages_key=\"input\",\n",
    "    history_messages_key=\"chat_history\",\n",
    "    output_messages_key=\"answer\",\n",
    ")"
   ]
  },
  {
   "cell_type": "code",
   "execution_count": 16,
   "metadata": {},
   "outputs": [
    {
     "data": {
      "text/plain": [
       "'Este documento é um currículo vitae (CV) de João Pedro Forequi de Oliveira, um profissional experiente em arquitetura de soluções, com especialização em Data & Analytics.'"
      ]
     },
     "execution_count": 16,
     "metadata": {},
     "output_type": "execute_result"
    }
   ],
   "source": [
    "# Fazer consultas e recuperar respostas com histórico de conversa\n",
    "conversational_rag_chain.invoke(\n",
    "    {\"input\": \"Do que se trata este documento?\"},\n",
    "    config={\"configurable\": {\"session_id\": \"abc123\"}}\n",
    ")[\"answer\"]"
   ]
  },
  {
   "cell_type": "code",
   "execution_count": 17,
   "metadata": {},
   "outputs": [
    {
     "data": {
      "text/plain": [
       "'João Pedro Forequi de Oliveira é bacharel em Ciência da Computação pela Universidade Vila Velha (2017-2021).'"
      ]
     },
     "execution_count": 17,
     "metadata": {},
     "output_type": "execute_result"
    }
   ],
   "source": [
    "conversational_rag_chain.invoke(\n",
    "    {\"input\": \"Qual é a formação de João Pedro?\"},\n",
    "    config={\"configurable\": {\"session_id\": \"abc123\"}}\n",
    ")[\"answer\"]"
   ]
  },
  {
   "cell_type": "code",
   "execution_count": 18,
   "metadata": {},
   "outputs": [
    {
     "data": {
      "text/plain": [
       "'De acordo com o currículo, João Pedro tem experiência com tecnologias da Microsoft Azure, como Azure Synapse Analytics, Azure Data Factory, Azure Databricks, Azure DevOps, Azure Analysis Services e Power BI, além de conhecimento avançado em Python, SQL e NoSQL.'"
      ]
     },
     "execution_count": 18,
     "metadata": {},
     "output_type": "execute_result"
    }
   ],
   "source": [
    "conversational_rag_chain.invoke(\n",
    "    {\"input\": \"Quais tecnologias estão no domínio de João Pedro?\"},\n",
    "    config={\"configurable\": {\"session_id\": \"abc123\"}}\n",
    ")[\"answer\"]"
   ]
  },
  {
   "cell_type": "code",
   "execution_count": 19,
   "metadata": {},
   "outputs": [
    {
     "name": "stdout",
     "output_type": "stream",
     "text": [
      "User: Do que se trata este documento?\n",
      "\n",
      "AI: Este documento é um currículo vitae (CV) de João Pedro Forequi de Oliveira, um profissional experiente em arquitetura de soluções, com especialização em Data & Analytics.\n",
      "\n",
      "User: Qual é a formação de João Pedro?\n",
      "\n",
      "AI: João Pedro Forequi de Oliveira é bacharel em Ciência da Computação pela Universidade Vila Velha (2017-2021).\n",
      "\n",
      "User: Quais tecnologias estão no domínio de João Pedro?\n",
      "\n",
      "AI: De acordo com o currículo, João Pedro tem experiência com tecnologias da Microsoft Azure, como Azure Synapse Analytics, Azure Data Factory, Azure Databricks, Azure DevOps, Azure Analysis Services e Power BI, além de conhecimento avançado em Python, SQL e NoSQL.\n",
      "\n"
     ]
    }
   ],
   "source": [
    "# Imprimir o histórico de mensagens da sessão\n",
    "for message in store[\"abc123\"].messages:\n",
    "    prefix = \"AI\" if isinstance(message, AIMessage) else \"User\"\n",
    "    print(f\"{prefix}: {message.content}\\n\")"
   ]
  }
 ],
 "metadata": {
  "kernelspec": {
   "display_name": "venv",
   "language": "python",
   "name": "python3"
  },
  "language_info": {
   "codemirror_mode": {
    "name": "ipython",
    "version": 3
   },
   "file_extension": ".py",
   "mimetype": "text/x-python",
   "name": "python",
   "nbconvert_exporter": "python",
   "pygments_lexer": "ipython3",
   "version": "3.12.4"
  }
 },
 "nbformat": 4,
 "nbformat_minor": 2
}
